{
 "cells": [
  {
   "cell_type": "code",
   "execution_count": 2,
   "metadata": {},
   "outputs": [],
   "source": [
    "from munkres import Munkres\n",
    "import copy\n",
    "inf = 999999"
   ]
  },
  {
   "cell_type": "code",
   "execution_count": 3,
   "metadata": {},
   "outputs": [],
   "source": [
    "#Если не удовлетворяет правилу треугольника, делаем чтобы удовлетворяло\n",
    "def floyd_warshall_algorithm(matrix):\n",
    "    n = len(matrix)\n",
    "    matrix_new = copy.deepcopy(matrix)\n",
    "    for i in range(n):\n",
    "        for j in range(n):\n",
    "            for k in range(n):\n",
    "                if (matrix_new[i][j] < inf):\n",
    "                    matrix_new[i][j] = min(matrix_new[i][j], matrix_new[i][k]+matrix_new[k][j])\n",
    "    return matrix_new"
   ]
  },
  {
   "cell_type": "code",
   "execution_count": 4,
   "metadata": {},
   "outputs": [],
   "source": [
    "def Christofides_recurrent(input_matrix):\n",
    "    matrix = floyd_warshall_algorithm(input_matrix)\n",
    "    n = len(matrix)\n",
    "    m = Munkres()            #Решаем задачу о назначениях\n",
    "    idx = m.compute(matrix)\n",
    "    way = dict(idx)\n",
    "    #восстанавливаем циклы\n",
    "    flags = [0]*n\n",
    "    cycles = [[]]\n",
    "    while sum(flags) < n:\n",
    "        one_cycle = []\n",
    "        i = flags.index(0)\n",
    "        while flags[i] == 0:\n",
    "            flags[i] = 1\n",
    "            one_cycle.append(i)\n",
    "            i = way[i]\n",
    "        cycles.append(one_cycle)\n",
    "    cycles = cycles[1:]\n",
    "    if len(cycles) == 1:\n",
    "        return cycles[0]\n",
    "    #Объединяем циклы в точку и повторяем\n",
    "    new_matrix = [[inf] * len(cycles) for i in range(len(cycles))]\n",
    "    shortcuts = [[(-1, -1)] * len(cycles) for i in range(len(cycles))] \n",
    "    for i in range(len(cycles)):\n",
    "        for j in range(len(cycles)):\n",
    "            if(i != j):\n",
    "                for p in range(len(cycles[i])):\n",
    "                    for q in range(len(cycles[j])):\n",
    "                        x = cycles[i][p]\n",
    "                        y = cycles[j][q]\n",
    "                        if(matrix[x][y] < new_matrix[i][j]):\n",
    "                            new_matrix[i][j] = matrix[x][y]\n",
    "                            shortcuts[i][j] = (x, y)\n",
    "    external_cycle = Christofides_recurrent(new_matrix)\n",
    "    #Объединяем циклы, выписывая порядки обхода малых циклов по порядку обхода большого\n",
    "    external_cycle = external_cycle + external_cycle[0:2]\n",
    "    perfect_cycle = []\n",
    "    for i in range(1, len(external_cycle)-1):\n",
    "        sequence_in = shortcuts[external_cycle[i-1]][external_cycle[i]][1]\n",
    "        next_in = shortcuts[external_cycle[i]][external_cycle[i+1]][1]\n",
    "        this_cycle = copy.deepcopy(cycles[external_cycle[i]])\n",
    "        this_cycle = this_cycle + this_cycle[0:2]\n",
    "        j = this_cycle[1:-1].index(sequence_in)+1\n",
    "        direct_out = this_cycle[j-1]\n",
    "        reverse_out = this_cycle[j+1]\n",
    "        if(matrix[direct_out][next_in]-matrix[direct_out][sequence_in] <= matrix[reverse_out][next_in]-matrix[reverse_out][sequence_in]):\n",
    "            perfect_cycle = perfect_cycle + this_cycle[j:-1]\n",
    "            perfect_cycle = perfect_cycle + this_cycle[1:j]\n",
    "        else:\n",
    "            part_1 = this_cycle[1:j+1]\n",
    "            part_1.reverse()\n",
    "            part_2 = this_cycle[j+1:-1]\n",
    "            part_2.reverse()\n",
    "            perfect_cycle = perfect_cycle + part_1 + part_2\n",
    "    return perfect_cycle"
   ]
  },
  {
   "cell_type": "code",
   "execution_count": 5,
   "metadata": {},
   "outputs": [
    {
     "data": {
      "text/plain": [
       "[[999999, 10, 15, 11, 2, 55],\n",
       " [10, 999999, 16, 18, 21, 13],\n",
       " [15, 16, 999999, 39, 22, 3],\n",
       " [11, 18, 39, 999999, 28, 25],\n",
       " [2, 21, 22, 28, 999999, 2],\n",
       " [55, 13, 3, 25, 2, 999999]]"
      ]
     },
     "execution_count": 5,
     "metadata": {},
     "output_type": "execute_result"
    }
   ],
   "source": [
    "#тестим\n",
    "#input_matrix = [[inf,10,15,19], [10, inf, 12, 17], [15, 12, inf, 8], [19, 17, 8, inf]]\n",
    "input_matrix = [[inf,10, 15, 11, 2, 55], [10, inf, 16, 18, 21, 13], [15, 16, inf, 39, 22, 3], [11, 18,39, inf, 28, 25], [2, 21, 22, 28, inf, 2], [55, 13, 3, 25, 2, inf]]\n",
    "input_matrix"
   ]
  },
  {
   "cell_type": "code",
   "execution_count": 9,
   "metadata": {},
   "outputs": [
    {
     "data": {
      "text/plain": [
       "[5, 2, 1, 3, 0, 4]"
      ]
     },
     "execution_count": 9,
     "metadata": {},
     "output_type": "execute_result"
    }
   ],
   "source": [
    "sequence = Christofides_recurrent(input_matrix)\n",
    "sequence"
   ]
  },
  {
   "cell_type": "code",
   "execution_count": 10,
   "metadata": {},
   "outputs": [],
   "source": [
    "#2-opt\n",
    "def algorithm_2opt(matrix, input_sequence):\n",
    "    sequence = copy.deepcopy(input_sequence)\n",
    "    flag_is_improved = 1\n",
    "    while flag_is_improved == 1:\n",
    "        flag_is_improved = 0\n",
    "        for i in range(len(sequence)-2):\n",
    "            for j in range(i+2,min(len(sequence)+i-1, len(sequence))):\n",
    "                if (matrix[sequence[i]][sequence[i+1]] + matrix[sequence[j]][sequence[(j+1)%len(sequence)]] > matrix[sequence[i]][sequence[j]] + matrix[sequence[i+1]][sequence[(j+1)%len(sequence)]]):\n",
    "                    rev_part = sequence[i+1:j+1]\n",
    "                    rev_part.reverse()\n",
    "                    sequence = sequence[:i+1] + rev_part + sequence[j+1:]\n",
    "                    flag_is_improved = 1\n",
    "    return sequence"
   ]
  },
  {
   "cell_type": "code",
   "execution_count": 11,
   "metadata": {},
   "outputs": [
    {
     "data": {
      "text/plain": [
       "[5, 2, 1, 3, 0, 4]"
      ]
     },
     "execution_count": 11,
     "metadata": {},
     "output_type": "execute_result"
    }
   ],
   "source": [
    "sequence_2opt = algorithm_2opt(input_matrix, sequence)\n",
    "sequence_2opt"
   ]
  },
  {
   "cell_type": "code",
   "execution_count": 12,
   "metadata": {},
   "outputs": [
    {
     "data": {
      "text/plain": [
       "[0, 3, 1, 2, 5, 4]"
      ]
     },
     "execution_count": 12,
     "metadata": {},
     "output_type": "execute_result"
    }
   ],
   "source": [
    "#запустимся начиная с рандомной последовательности и полуим на выходе ту же самую, с точностью до сдвига и разворота\n",
    "sequence_2opt = algorithm_2opt(input_matrix, [0,1,2,3,4,5])\n",
    "sequence_2opt"
   ]
  },
  {
   "cell_type": "code",
   "execution_count": null,
   "metadata": {},
   "outputs": [],
   "source": []
  }
 ],
 "metadata": {
  "kernelspec": {
   "display_name": "Python 3",
   "language": "python",
   "name": "python3"
  },
  "language_info": {
   "codemirror_mode": {
    "name": "ipython",
    "version": 3
   },
   "file_extension": ".py",
   "mimetype": "text/x-python",
   "name": "python",
   "nbconvert_exporter": "python",
   "pygments_lexer": "ipython3",
   "version": "3.6.10"
  }
 },
 "nbformat": 4,
 "nbformat_minor": 2
}
